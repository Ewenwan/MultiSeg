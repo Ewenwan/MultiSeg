{
 "cells": [
  {
   "cell_type": "markdown",
   "metadata": {},
   "source": [
    "# Comparison of Soft Masks (b/w Mask RCNN and Mask Prop)"
   ]
  },
  {
   "cell_type": "code",
   "execution_count": null,
   "metadata": {
    "collapsed": true
   },
   "outputs": [],
   "source": [
    "import sys\n",
    "sys.path.append('../')\n",
    "\n",
    "import matplotlib.pyplot as plt\n",
    "import numpy as np\n",
    "import os\n",
    "from keras.backend import tf\n",
    "\n",
    "# static GPU memory allocation for tensorflow (reserve some GPU for PyTorch optical flow)\n",
    "gpu_options = tf.GPUOptions(per_process_gpu_memory_fraction=0.75)\n",
    "sess = tf.Session(config=tf.ConfigProto(gpu_options=gpu_options))\n",
    "\n",
    "from image_seg.model import MaskRCNN\n",
    "from mask_prop.mask_propagation import MaskPropagation\n",
    "\n",
    "# Root directory of the project\n",
    "ROOT_DIR = os.path.abspath(\"../\")\n",
    "print('Project Directory: {}'.format(ROOT_DIR))\n",
    "\n",
    "# Root directory of the dataset\n",
    "DATA_DIR = os.path.join(ROOT_DIR, \"dataset/wad\")\n",
    "print('Data Directory: {}'.format(DATA_DIR))\n",
    "\n",
    "# Directory to save logs and trained model\n",
    "LOGS_DIR = os.path.join(ROOT_DIR, \"logs\")\n",
    "print('Logs and Model Directory: {}'.format(LOGS_DIR))"
   ]
  },
  {
   "cell_type": "code",
   "execution_count": null,
   "metadata": {},
   "outputs": [],
   "source": [
    "from train.davis_data import MaskPropDavisDataset\n",
    "from skimage.io import imread\n",
    "\n",
    "dataset = MaskPropDavisDataset(\"../../data/DAVIS\", \"480p\", val_videos=[\n",
    "    \"car-shadow\", \"breakdance\", \"camel\", \"scooter-black\", \"libby\", \"drift-straight\"\n",
    "])\n",
    "\n",
    "img_prev, img_curr, mask_prev, mask_curr =\\\n",
    "    list(map(imread, dataset.get_random_pair(val=False)))\n"
   ]
  },
  {
   "cell_type": "markdown",
   "metadata": {},
   "source": [
    "## Mask RCNN Inference"
   ]
  },
  {
   "cell_type": "code",
   "execution_count": null,
   "metadata": {},
   "outputs": [],
   "source": [
    "from image_seg import visualize\n",
    "from train.wad_data import WadConfig, index_to_class_names\n",
    "\n",
    "\n",
    "# WAD Configuration\n",
    "class WADInferenceConfig(WadConfig):\n",
    "    BATCH_SIZE = 1\n",
    "    IMAGES_PER_GPU = 1\n",
    "    DETECTION_MIN_CONFIDENCE = 0\n",
    "    \n",
    "    \n",
    "wad_config = WADInferenceConfig()\n",
    "\n",
    "MODEL_WEIGHTS_PATH = os.path.join(LOGS_DIR, 'wad20180621T1404/mask_rcnn_wad_0001.h5')\n",
    "\n",
    "# Create model in inference mode\n",
    "mrcnn = MaskRCNN(mode=\"inference\", config=wad_config, model_dir=LOGS_DIR)\n",
    "\n",
    "mrcnn.load_weights(MODEL_WEIGHTS_PATH, by_name=True)\n",
    "\n",
    "results = mrcnn.detect([img_curr], verbose=1)[0]\n",
    "\n",
    "visualize.display_instances(img_curr, results['rois'], results['masks'], results['class_ids'], \n",
    "                            index_to_class_names, results['scores'])"
   ]
  },
  {
   "cell_type": "markdown",
   "metadata": {},
   "source": [
    "## Mask Propagation Inference"
   ]
  },
  {
   "cell_type": "code",
   "execution_count": null,
   "metadata": {},
   "outputs": [],
   "source": [
    "from mask_prop.mask_propagation import pad_image\n",
    "from opt_flow.pwc_net_wrapper import PWCNetWrapper\n",
    "\n",
    "optical_flow = PWCNetWrapper(\"../opt_flow/pwc_net.pth.tar\")\n",
    "mp = MaskPropagation('../mask_prop/davis_unet_weights.h5')\n",
    "\n",
    "# get the flow field\n",
    "flow_field = optical_flow.infer_flow_field(img_prev, img_curr)\n",
    "flow_field_x, flow_field_y = flow_field[:, :, 0], flow_field[:, :, 1]\n",
    "flow_field[:, :, 0] = (flow_field_x - flow_field_x.mean()) / flow_field_x.std()\n",
    "flow_field[:, :, 1] = (flow_field_y - flow_field_y.mean()) / flow_field_y.std()\n",
    "\n",
    "inputs = np.stack([mask_prev, flow_field[:, :, 0], flow_field[:, :, 1]], axis=2)\n",
    "\n",
    "# propagate the mask using flow field and previous mask\n",
    "propagated_mask = mp.predict(inputs)\n",
    "\n",
    "plt.imshow(propagated_mask)"
   ]
  }
 ],
 "metadata": {
  "kernelspec": {
   "display_name": "Python 2",
   "language": "python",
   "name": "python2"
  },
  "language_info": {
   "codemirror_mode": {
    "name": "ipython",
    "version": 2
   },
   "file_extension": ".py",
   "mimetype": "text/x-python",
   "name": "python",
   "nbconvert_exporter": "python",
   "pygments_lexer": "ipython2",
   "version": "2.7.6"
  }
 },
 "nbformat": 4,
 "nbformat_minor": 0
}
